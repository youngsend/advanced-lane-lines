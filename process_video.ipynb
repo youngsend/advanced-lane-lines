{
 "cells": [
  {
   "cell_type": "markdown",
   "id": "general-maple",
   "metadata": {},
   "source": [
    "### import and initialization"
   ]
  },
  {
   "cell_type": "code",
   "execution_count": 2,
   "id": "accomplished-canyon",
   "metadata": {},
   "outputs": [],
   "source": [
    "from moviepy.editor import VideoFileClip\n",
    "from IPython.display import HTML\n",
    "from pipeline import *\n",
    "\n",
    "processor = Pipeline()"
   ]
  },
  {
   "cell_type": "code",
   "execution_count": 3,
   "id": "complimentary-minnesota",
   "metadata": {},
   "outputs": [],
   "source": [
    "def process_image(image):\n",
    "    _, _, _, result = processor.process(image)\n",
    "    return result"
   ]
  },
  {
   "cell_type": "code",
   "execution_count": 4,
   "id": "handmade-document",
   "metadata": {},
   "outputs": [
    {
     "name": "stderr",
     "output_type": "stream",
     "text": [
      "t:   0%|          | 3/1260 [00:00<00:56, 22.14it/s, now=None]"
     ]
    },
    {
     "name": "stdout",
     "output_type": "stream",
     "text": [
      "Moviepy - Building video output_images/project_video.mp4.\n",
      "Moviepy - Writing video output_images/project_video.mp4\n",
      "\n"
     ]
    },
    {
     "name": "stderr",
     "output_type": "stream",
     "text": [
      "                                                                \r"
     ]
    },
    {
     "name": "stdout",
     "output_type": "stream",
     "text": [
      "Moviepy - Done !\n",
      "Moviepy - video ready output_images/project_video.mp4\n",
      "CPU times: user 8min 44s, sys: 4.68 s, total: 8min 49s\n",
      "Wall time: 1min 16s\n"
     ]
    }
   ],
   "source": [
    "output1 = 'output_images/project_video.mp4'\n",
    "clip1 = VideoFileClip('project_video.mp4')\n",
    "white_clip = clip1.fl_image(process_image)\n",
    "%time white_clip.write_videofile(output1, audio=False)"
   ]
  },
  {
   "cell_type": "code",
   "execution_count": 5,
   "id": "renewable-resistance",
   "metadata": {},
   "outputs": [
    {
     "data": {
      "text/html": [
       "\n",
       "<video width=\"960\" height=\"540\" controls>\n",
       "  <source src=\"output_images/project_video.mp4\">\n",
       "</video>\n"
      ],
      "text/plain": [
       "<IPython.core.display.HTML object>"
      ]
     },
     "execution_count": 5,
     "metadata": {},
     "output_type": "execute_result"
    }
   ],
   "source": [
    "HTML(\"\"\"\n",
    "<video width=\"960\" height=\"540\" controls>\n",
    "  <source src=\"{0}\">\n",
    "</video>\n",
    "\"\"\".format(output1))"
   ]
  },
  {
   "cell_type": "code",
   "execution_count": null,
   "id": "automotive-congress",
   "metadata": {},
   "outputs": [],
   "source": []
  }
 ],
 "metadata": {
  "kernelspec": {
   "display_name": "Python 3",
   "language": "python",
   "name": "python3"
  },
  "language_info": {
   "codemirror_mode": {
    "name": "ipython",
    "version": 3
   },
   "file_extension": ".py",
   "mimetype": "text/x-python",
   "name": "python",
   "nbconvert_exporter": "python",
   "pygments_lexer": "ipython3",
   "version": "3.9.2"
  }
 },
 "nbformat": 4,
 "nbformat_minor": 5
}
